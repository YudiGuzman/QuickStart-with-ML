{
 "cells": [
  {
   "cell_type": "markdown",
   "id": "4dff74f9",
   "metadata": {},
   "source": [
    "# Eneisoft XIII - V2"
   ]
  },
  {
   "cell_type": "markdown",
   "id": "9960a8d1",
   "metadata": {},
   "source": [
    "## Fase carga de datos limpios"
   ]
  },
  {
   "cell_type": "code",
   "execution_count": 88,
   "id": "f7453d8d",
   "metadata": {},
   "outputs": [],
   "source": [
    "from IPython.display import display, HTML"
   ]
  },
  {
   "cell_type": "code",
   "execution_count": 89,
   "id": "65a64367",
   "metadata": {},
   "outputs": [
    {
     "data": {
      "text/html": [
       "<style>.container{ width:98% }</style>"
      ],
      "text/plain": [
       "<IPython.core.display.HTML object>"
      ]
     },
     "metadata": {},
     "output_type": "display_data"
    }
   ],
   "source": [
    "# Permite ajustar la anchura de la parte útil de la libreta (reduce los márgenes)\n",
    "display(HTML(\"<style>.container{ width:98% }</style>\"))"
   ]
  },
  {
   "cell_type": "code",
   "execution_count": 90,
   "id": "15d1a2e5",
   "metadata": {},
   "outputs": [],
   "source": [
    "import pandas as pd\n",
    "import numpy as np\n",
    "import matplotlib\n",
    "import matplotlib.pyplot as plt\n",
    "import seaborn as sns"
   ]
  },
  {
   "cell_type": "code",
   "execution_count": 91,
   "id": "7f2a26d9",
   "metadata": {},
   "outputs": [
    {
     "data": {
      "text/html": [
       "<div>\n",
       "<style scoped>\n",
       "    .dataframe tbody tr th:only-of-type {\n",
       "        vertical-align: middle;\n",
       "    }\n",
       "\n",
       "    .dataframe tbody tr th {\n",
       "        vertical-align: top;\n",
       "    }\n",
       "\n",
       "    .dataframe thead th {\n",
       "        text-align: right;\n",
       "    }\n",
       "</style>\n",
       "<table border=\"1\" class=\"dataframe\">\n",
       "  <thead>\n",
       "    <tr style=\"text-align: right;\">\n",
       "      <th></th>\n",
       "      <th>Unnamed: 0</th>\n",
       "      <th>A1_cat</th>\n",
       "      <th>A4_cat</th>\n",
       "      <th>A5_cat</th>\n",
       "      <th>A6_cat</th>\n",
       "      <th>A7_cat</th>\n",
       "      <th>A9_cat</th>\n",
       "      <th>A10_cat</th>\n",
       "      <th>A12_cat</th>\n",
       "      <th>A13_cat</th>\n",
       "      <th>A2</th>\n",
       "      <th>A3</th>\n",
       "      <th>A8</th>\n",
       "      <th>A11</th>\n",
       "      <th>A14</th>\n",
       "      <th>A15</th>\n",
       "      <th>A16</th>\n",
       "    </tr>\n",
       "  </thead>\n",
       "  <tbody>\n",
       "    <tr>\n",
       "      <th>0</th>\n",
       "      <td>0</td>\n",
       "      <td>1</td>\n",
       "      <td>1</td>\n",
       "      <td>0</td>\n",
       "      <td>12</td>\n",
       "      <td>7</td>\n",
       "      <td>1</td>\n",
       "      <td>1</td>\n",
       "      <td>0</td>\n",
       "      <td>0</td>\n",
       "      <td>30.83</td>\n",
       "      <td>0.000</td>\n",
       "      <td>1.25</td>\n",
       "      <td>1</td>\n",
       "      <td>202</td>\n",
       "      <td>0</td>\n",
       "      <td>1</td>\n",
       "    </tr>\n",
       "    <tr>\n",
       "      <th>1</th>\n",
       "      <td>1</td>\n",
       "      <td>0</td>\n",
       "      <td>1</td>\n",
       "      <td>0</td>\n",
       "      <td>10</td>\n",
       "      <td>3</td>\n",
       "      <td>1</td>\n",
       "      <td>1</td>\n",
       "      <td>0</td>\n",
       "      <td>0</td>\n",
       "      <td>58.67</td>\n",
       "      <td>4.460</td>\n",
       "      <td>3.04</td>\n",
       "      <td>6</td>\n",
       "      <td>43</td>\n",
       "      <td>560</td>\n",
       "      <td>1</td>\n",
       "    </tr>\n",
       "    <tr>\n",
       "      <th>2</th>\n",
       "      <td>2</td>\n",
       "      <td>0</td>\n",
       "      <td>1</td>\n",
       "      <td>0</td>\n",
       "      <td>10</td>\n",
       "      <td>3</td>\n",
       "      <td>1</td>\n",
       "      <td>0</td>\n",
       "      <td>0</td>\n",
       "      <td>0</td>\n",
       "      <td>24.50</td>\n",
       "      <td>0.500</td>\n",
       "      <td>1.50</td>\n",
       "      <td>0</td>\n",
       "      <td>280</td>\n",
       "      <td>824</td>\n",
       "      <td>1</td>\n",
       "    </tr>\n",
       "    <tr>\n",
       "      <th>3</th>\n",
       "      <td>3</td>\n",
       "      <td>1</td>\n",
       "      <td>1</td>\n",
       "      <td>0</td>\n",
       "      <td>12</td>\n",
       "      <td>7</td>\n",
       "      <td>1</td>\n",
       "      <td>1</td>\n",
       "      <td>1</td>\n",
       "      <td>0</td>\n",
       "      <td>27.83</td>\n",
       "      <td>1.540</td>\n",
       "      <td>3.75</td>\n",
       "      <td>5</td>\n",
       "      <td>100</td>\n",
       "      <td>3</td>\n",
       "      <td>1</td>\n",
       "    </tr>\n",
       "    <tr>\n",
       "      <th>4</th>\n",
       "      <td>4</td>\n",
       "      <td>1</td>\n",
       "      <td>1</td>\n",
       "      <td>0</td>\n",
       "      <td>12</td>\n",
       "      <td>7</td>\n",
       "      <td>1</td>\n",
       "      <td>0</td>\n",
       "      <td>0</td>\n",
       "      <td>2</td>\n",
       "      <td>20.17</td>\n",
       "      <td>5.625</td>\n",
       "      <td>1.71</td>\n",
       "      <td>0</td>\n",
       "      <td>120</td>\n",
       "      <td>0</td>\n",
       "      <td>1</td>\n",
       "    </tr>\n",
       "  </tbody>\n",
       "</table>\n",
       "</div>"
      ],
      "text/plain": [
       "   Unnamed: 0  A1_cat  A4_cat  A5_cat  A6_cat  A7_cat  A9_cat  A10_cat  \\\n",
       "0           0       1       1       0      12       7       1        1   \n",
       "1           1       0       1       0      10       3       1        1   \n",
       "2           2       0       1       0      10       3       1        0   \n",
       "3           3       1       1       0      12       7       1        1   \n",
       "4           4       1       1       0      12       7       1        0   \n",
       "\n",
       "   A12_cat  A13_cat     A2     A3    A8  A11  A14  A15  A16  \n",
       "0        0        0  30.83  0.000  1.25    1  202    0    1  \n",
       "1        0        0  58.67  4.460  3.04    6   43  560    1  \n",
       "2        0        0  24.50  0.500  1.50    0  280  824    1  \n",
       "3        1        0  27.83  1.540  3.75    5  100    3    1  \n",
       "4        0        2  20.17  5.625  1.71    0  120    0    1  "
      ]
     },
     "execution_count": 91,
     "metadata": {},
     "output_type": "execute_result"
    }
   ],
   "source": [
    "#Cargamos el conjunto de datos datalimpia guardado en la unidad anterior - 4\n",
    "filename = 'datalimpia_1.csv'\n",
    "data = pd.read_csv(filename)\n",
    "data.head()"
   ]
  },
  {
   "cell_type": "code",
   "execution_count": 92,
   "id": "14d80022",
   "metadata": {},
   "outputs": [
    {
     "data": {
      "text/html": [
       "<div>\n",
       "<style scoped>\n",
       "    .dataframe tbody tr th:only-of-type {\n",
       "        vertical-align: middle;\n",
       "    }\n",
       "\n",
       "    .dataframe tbody tr th {\n",
       "        vertical-align: top;\n",
       "    }\n",
       "\n",
       "    .dataframe thead th {\n",
       "        text-align: right;\n",
       "    }\n",
       "</style>\n",
       "<table border=\"1\" class=\"dataframe\">\n",
       "  <thead>\n",
       "    <tr style=\"text-align: right;\">\n",
       "      <th></th>\n",
       "      <th>A1_cat</th>\n",
       "      <th>A4_cat</th>\n",
       "      <th>A5_cat</th>\n",
       "      <th>A6_cat</th>\n",
       "      <th>A7_cat</th>\n",
       "      <th>A9_cat</th>\n",
       "      <th>A10_cat</th>\n",
       "      <th>A12_cat</th>\n",
       "      <th>A13_cat</th>\n",
       "      <th>A2</th>\n",
       "      <th>A3</th>\n",
       "      <th>A8</th>\n",
       "      <th>A11</th>\n",
       "      <th>A14</th>\n",
       "      <th>A15</th>\n",
       "      <th>A16</th>\n",
       "    </tr>\n",
       "  </thead>\n",
       "  <tbody>\n",
       "    <tr>\n",
       "      <th>0</th>\n",
       "      <td>1</td>\n",
       "      <td>1</td>\n",
       "      <td>0</td>\n",
       "      <td>12</td>\n",
       "      <td>7</td>\n",
       "      <td>1</td>\n",
       "      <td>1</td>\n",
       "      <td>0</td>\n",
       "      <td>0</td>\n",
       "      <td>30.83</td>\n",
       "      <td>0.000</td>\n",
       "      <td>1.25</td>\n",
       "      <td>1</td>\n",
       "      <td>202</td>\n",
       "      <td>0</td>\n",
       "      <td>1</td>\n",
       "    </tr>\n",
       "    <tr>\n",
       "      <th>1</th>\n",
       "      <td>0</td>\n",
       "      <td>1</td>\n",
       "      <td>0</td>\n",
       "      <td>10</td>\n",
       "      <td>3</td>\n",
       "      <td>1</td>\n",
       "      <td>1</td>\n",
       "      <td>0</td>\n",
       "      <td>0</td>\n",
       "      <td>58.67</td>\n",
       "      <td>4.460</td>\n",
       "      <td>3.04</td>\n",
       "      <td>6</td>\n",
       "      <td>43</td>\n",
       "      <td>560</td>\n",
       "      <td>1</td>\n",
       "    </tr>\n",
       "    <tr>\n",
       "      <th>2</th>\n",
       "      <td>0</td>\n",
       "      <td>1</td>\n",
       "      <td>0</td>\n",
       "      <td>10</td>\n",
       "      <td>3</td>\n",
       "      <td>1</td>\n",
       "      <td>0</td>\n",
       "      <td>0</td>\n",
       "      <td>0</td>\n",
       "      <td>24.50</td>\n",
       "      <td>0.500</td>\n",
       "      <td>1.50</td>\n",
       "      <td>0</td>\n",
       "      <td>280</td>\n",
       "      <td>824</td>\n",
       "      <td>1</td>\n",
       "    </tr>\n",
       "    <tr>\n",
       "      <th>3</th>\n",
       "      <td>1</td>\n",
       "      <td>1</td>\n",
       "      <td>0</td>\n",
       "      <td>12</td>\n",
       "      <td>7</td>\n",
       "      <td>1</td>\n",
       "      <td>1</td>\n",
       "      <td>1</td>\n",
       "      <td>0</td>\n",
       "      <td>27.83</td>\n",
       "      <td>1.540</td>\n",
       "      <td>3.75</td>\n",
       "      <td>5</td>\n",
       "      <td>100</td>\n",
       "      <td>3</td>\n",
       "      <td>1</td>\n",
       "    </tr>\n",
       "    <tr>\n",
       "      <th>4</th>\n",
       "      <td>1</td>\n",
       "      <td>1</td>\n",
       "      <td>0</td>\n",
       "      <td>12</td>\n",
       "      <td>7</td>\n",
       "      <td>1</td>\n",
       "      <td>0</td>\n",
       "      <td>0</td>\n",
       "      <td>2</td>\n",
       "      <td>20.17</td>\n",
       "      <td>5.625</td>\n",
       "      <td>1.71</td>\n",
       "      <td>0</td>\n",
       "      <td>120</td>\n",
       "      <td>0</td>\n",
       "      <td>1</td>\n",
       "    </tr>\n",
       "    <tr>\n",
       "      <th>...</th>\n",
       "      <td>...</td>\n",
       "      <td>...</td>\n",
       "      <td>...</td>\n",
       "      <td>...</td>\n",
       "      <td>...</td>\n",
       "      <td>...</td>\n",
       "      <td>...</td>\n",
       "      <td>...</td>\n",
       "      <td>...</td>\n",
       "      <td>...</td>\n",
       "      <td>...</td>\n",
       "      <td>...</td>\n",
       "      <td>...</td>\n",
       "      <td>...</td>\n",
       "      <td>...</td>\n",
       "      <td>...</td>\n",
       "    </tr>\n",
       "    <tr>\n",
       "      <th>648</th>\n",
       "      <td>-1</td>\n",
       "      <td>2</td>\n",
       "      <td>2</td>\n",
       "      <td>4</td>\n",
       "      <td>3</td>\n",
       "      <td>0</td>\n",
       "      <td>0</td>\n",
       "      <td>0</td>\n",
       "      <td>0</td>\n",
       "      <td>21.08</td>\n",
       "      <td>10.085</td>\n",
       "      <td>1.25</td>\n",
       "      <td>0</td>\n",
       "      <td>260</td>\n",
       "      <td>0</td>\n",
       "      <td>0</td>\n",
       "    </tr>\n",
       "    <tr>\n",
       "      <th>649</th>\n",
       "      <td>0</td>\n",
       "      <td>1</td>\n",
       "      <td>0</td>\n",
       "      <td>1</td>\n",
       "      <td>7</td>\n",
       "      <td>0</td>\n",
       "      <td>1</td>\n",
       "      <td>1</td>\n",
       "      <td>0</td>\n",
       "      <td>22.67</td>\n",
       "      <td>0.750</td>\n",
       "      <td>2.00</td>\n",
       "      <td>2</td>\n",
       "      <td>200</td>\n",
       "      <td>394</td>\n",
       "      <td>0</td>\n",
       "    </tr>\n",
       "    <tr>\n",
       "      <th>650</th>\n",
       "      <td>0</td>\n",
       "      <td>2</td>\n",
       "      <td>2</td>\n",
       "      <td>5</td>\n",
       "      <td>2</td>\n",
       "      <td>0</td>\n",
       "      <td>1</td>\n",
       "      <td>1</td>\n",
       "      <td>0</td>\n",
       "      <td>25.25</td>\n",
       "      <td>13.500</td>\n",
       "      <td>2.00</td>\n",
       "      <td>1</td>\n",
       "      <td>200</td>\n",
       "      <td>1</td>\n",
       "      <td>0</td>\n",
       "    </tr>\n",
       "    <tr>\n",
       "      <th>651</th>\n",
       "      <td>0</td>\n",
       "      <td>1</td>\n",
       "      <td>0</td>\n",
       "      <td>0</td>\n",
       "      <td>7</td>\n",
       "      <td>0</td>\n",
       "      <td>0</td>\n",
       "      <td>0</td>\n",
       "      <td>0</td>\n",
       "      <td>17.92</td>\n",
       "      <td>0.205</td>\n",
       "      <td>0.04</td>\n",
       "      <td>0</td>\n",
       "      <td>280</td>\n",
       "      <td>750</td>\n",
       "      <td>0</td>\n",
       "    </tr>\n",
       "    <tr>\n",
       "      <th>652</th>\n",
       "      <td>1</td>\n",
       "      <td>1</td>\n",
       "      <td>0</td>\n",
       "      <td>1</td>\n",
       "      <td>3</td>\n",
       "      <td>0</td>\n",
       "      <td>0</td>\n",
       "      <td>1</td>\n",
       "      <td>0</td>\n",
       "      <td>35.00</td>\n",
       "      <td>3.375</td>\n",
       "      <td>8.29</td>\n",
       "      <td>0</td>\n",
       "      <td>0</td>\n",
       "      <td>0</td>\n",
       "      <td>0</td>\n",
       "    </tr>\n",
       "  </tbody>\n",
       "</table>\n",
       "<p>653 rows × 16 columns</p>\n",
       "</div>"
      ],
      "text/plain": [
       "     A1_cat  A4_cat  A5_cat  A6_cat  A7_cat  A9_cat  A10_cat  A12_cat  \\\n",
       "0         1       1       0      12       7       1        1        0   \n",
       "1         0       1       0      10       3       1        1        0   \n",
       "2         0       1       0      10       3       1        0        0   \n",
       "3         1       1       0      12       7       1        1        1   \n",
       "4         1       1       0      12       7       1        0        0   \n",
       "..      ...     ...     ...     ...     ...     ...      ...      ...   \n",
       "648      -1       2       2       4       3       0        0        0   \n",
       "649       0       1       0       1       7       0        1        1   \n",
       "650       0       2       2       5       2       0        1        1   \n",
       "651       0       1       0       0       7       0        0        0   \n",
       "652       1       1       0       1       3       0        0        1   \n",
       "\n",
       "     A13_cat     A2      A3    A8  A11  A14  A15  A16  \n",
       "0          0  30.83   0.000  1.25    1  202    0    1  \n",
       "1          0  58.67   4.460  3.04    6   43  560    1  \n",
       "2          0  24.50   0.500  1.50    0  280  824    1  \n",
       "3          0  27.83   1.540  3.75    5  100    3    1  \n",
       "4          2  20.17   5.625  1.71    0  120    0    1  \n",
       "..       ...    ...     ...   ...  ...  ...  ...  ...  \n",
       "648        0  21.08  10.085  1.25    0  260    0    0  \n",
       "649        0  22.67   0.750  2.00    2  200  394    0  \n",
       "650        0  25.25  13.500  2.00    1  200    1    0  \n",
       "651        0  17.92   0.205  0.04    0  280  750    0  \n",
       "652        0  35.00   3.375  8.29    0    0    0    0  \n",
       "\n",
       "[653 rows x 16 columns]"
      ]
     },
     "execution_count": 92,
     "metadata": {},
     "output_type": "execute_result"
    }
   ],
   "source": [
    "del data['Unnamed: 0']\n",
    "data"
   ]
  },
  {
   "cell_type": "code",
   "execution_count": 93,
   "id": "e9051089",
   "metadata": {},
   "outputs": [
    {
     "data": {
      "text/plain": [
       "(653, 16)"
      ]
     },
     "execution_count": 93,
     "metadata": {},
     "output_type": "execute_result"
    }
   ],
   "source": [
    "#Dimensiones de nuestro dataset limpio.\n",
    "data.shape"
   ]
  },
  {
   "cell_type": "code",
   "execution_count": 94,
   "id": "99089c40",
   "metadata": {},
   "outputs": [
    {
     "data": {
      "text/html": [
       "<div>\n",
       "<style scoped>\n",
       "    .dataframe tbody tr th:only-of-type {\n",
       "        vertical-align: middle;\n",
       "    }\n",
       "\n",
       "    .dataframe tbody tr th {\n",
       "        vertical-align: top;\n",
       "    }\n",
       "\n",
       "    .dataframe thead th {\n",
       "        text-align: right;\n",
       "    }\n",
       "</style>\n",
       "<table border=\"1\" class=\"dataframe\">\n",
       "  <thead>\n",
       "    <tr style=\"text-align: right;\">\n",
       "      <th></th>\n",
       "      <th>A1_cat</th>\n",
       "      <th>A4_cat</th>\n",
       "      <th>A5_cat</th>\n",
       "      <th>A6_cat</th>\n",
       "      <th>A7_cat</th>\n",
       "      <th>A9_cat</th>\n",
       "      <th>A10_cat</th>\n",
       "      <th>A12_cat</th>\n",
       "      <th>A13_cat</th>\n",
       "      <th>A2</th>\n",
       "      <th>A3</th>\n",
       "      <th>A8</th>\n",
       "      <th>A11</th>\n",
       "      <th>A14</th>\n",
       "      <th>A15</th>\n",
       "      <th>A16</th>\n",
       "    </tr>\n",
       "  </thead>\n",
       "  <tbody>\n",
       "    <tr>\n",
       "      <th>count</th>\n",
       "      <td>653.000000</td>\n",
       "      <td>653.000000</td>\n",
       "      <td>653.000000</td>\n",
       "      <td>653.000000</td>\n",
       "      <td>653.000000</td>\n",
       "      <td>653.000000</td>\n",
       "      <td>653.000000</td>\n",
       "      <td>653.000000</td>\n",
       "      <td>653.000000</td>\n",
       "      <td>653.000000</td>\n",
       "      <td>653.000000</td>\n",
       "      <td>653.000000</td>\n",
       "      <td>653.000000</td>\n",
       "      <td>653.000000</td>\n",
       "      <td>653.000000</td>\n",
       "      <td>653.000000</td>\n",
       "    </tr>\n",
       "    <tr>\n",
       "      <th>mean</th>\n",
       "      <td>0.667688</td>\n",
       "      <td>1.229709</td>\n",
       "      <td>0.468606</td>\n",
       "      <td>5.773354</td>\n",
       "      <td>5.084227</td>\n",
       "      <td>0.534456</td>\n",
       "      <td>0.439510</td>\n",
       "      <td>0.462481</td>\n",
       "      <td>0.165391</td>\n",
       "      <td>31.503813</td>\n",
       "      <td>4.829533</td>\n",
       "      <td>2.244296</td>\n",
       "      <td>2.502297</td>\n",
       "      <td>180.359877</td>\n",
       "      <td>1013.761103</td>\n",
       "      <td>0.453292</td>\n",
       "    </tr>\n",
       "    <tr>\n",
       "      <th>std</th>\n",
       "      <td>0.502888</td>\n",
       "      <td>0.428193</td>\n",
       "      <td>0.845963</td>\n",
       "      <td>4.296249</td>\n",
       "      <td>2.494278</td>\n",
       "      <td>0.499194</td>\n",
       "      <td>0.496708</td>\n",
       "      <td>0.498973</td>\n",
       "      <td>0.548475</td>\n",
       "      <td>11.838267</td>\n",
       "      <td>5.027077</td>\n",
       "      <td>3.371120</td>\n",
       "      <td>4.968497</td>\n",
       "      <td>168.296811</td>\n",
       "      <td>5253.278504</td>\n",
       "      <td>0.498195</td>\n",
       "    </tr>\n",
       "    <tr>\n",
       "      <th>min</th>\n",
       "      <td>-1.000000</td>\n",
       "      <td>0.000000</td>\n",
       "      <td>0.000000</td>\n",
       "      <td>0.000000</td>\n",
       "      <td>0.000000</td>\n",
       "      <td>0.000000</td>\n",
       "      <td>0.000000</td>\n",
       "      <td>0.000000</td>\n",
       "      <td>0.000000</td>\n",
       "      <td>13.750000</td>\n",
       "      <td>0.000000</td>\n",
       "      <td>0.000000</td>\n",
       "      <td>0.000000</td>\n",
       "      <td>0.000000</td>\n",
       "      <td>0.000000</td>\n",
       "      <td>0.000000</td>\n",
       "    </tr>\n",
       "    <tr>\n",
       "      <th>25%</th>\n",
       "      <td>0.000000</td>\n",
       "      <td>1.000000</td>\n",
       "      <td>0.000000</td>\n",
       "      <td>1.000000</td>\n",
       "      <td>3.000000</td>\n",
       "      <td>0.000000</td>\n",
       "      <td>0.000000</td>\n",
       "      <td>0.000000</td>\n",
       "      <td>0.000000</td>\n",
       "      <td>22.580000</td>\n",
       "      <td>1.040000</td>\n",
       "      <td>0.165000</td>\n",
       "      <td>0.000000</td>\n",
       "      <td>73.000000</td>\n",
       "      <td>0.000000</td>\n",
       "      <td>0.000000</td>\n",
       "    </tr>\n",
       "    <tr>\n",
       "      <th>50%</th>\n",
       "      <td>1.000000</td>\n",
       "      <td>1.000000</td>\n",
       "      <td>0.000000</td>\n",
       "      <td>6.000000</td>\n",
       "      <td>7.000000</td>\n",
       "      <td>1.000000</td>\n",
       "      <td>0.000000</td>\n",
       "      <td>0.000000</td>\n",
       "      <td>0.000000</td>\n",
       "      <td>28.420000</td>\n",
       "      <td>2.835000</td>\n",
       "      <td>1.000000</td>\n",
       "      <td>0.000000</td>\n",
       "      <td>160.000000</td>\n",
       "      <td>5.000000</td>\n",
       "      <td>0.000000</td>\n",
       "    </tr>\n",
       "    <tr>\n",
       "      <th>75%</th>\n",
       "      <td>1.000000</td>\n",
       "      <td>1.000000</td>\n",
       "      <td>0.000000</td>\n",
       "      <td>10.000000</td>\n",
       "      <td>7.000000</td>\n",
       "      <td>1.000000</td>\n",
       "      <td>1.000000</td>\n",
       "      <td>1.000000</td>\n",
       "      <td>0.000000</td>\n",
       "      <td>38.250000</td>\n",
       "      <td>7.500000</td>\n",
       "      <td>2.625000</td>\n",
       "      <td>3.000000</td>\n",
       "      <td>272.000000</td>\n",
       "      <td>400.000000</td>\n",
       "      <td>1.000000</td>\n",
       "    </tr>\n",
       "    <tr>\n",
       "      <th>max</th>\n",
       "      <td>1.000000</td>\n",
       "      <td>2.000000</td>\n",
       "      <td>2.000000</td>\n",
       "      <td>13.000000</td>\n",
       "      <td>8.000000</td>\n",
       "      <td>1.000000</td>\n",
       "      <td>1.000000</td>\n",
       "      <td>1.000000</td>\n",
       "      <td>2.000000</td>\n",
       "      <td>76.750000</td>\n",
       "      <td>28.000000</td>\n",
       "      <td>28.500000</td>\n",
       "      <td>67.000000</td>\n",
       "      <td>2000.000000</td>\n",
       "      <td>100000.000000</td>\n",
       "      <td>1.000000</td>\n",
       "    </tr>\n",
       "  </tbody>\n",
       "</table>\n",
       "</div>"
      ],
      "text/plain": [
       "           A1_cat      A4_cat      A5_cat      A6_cat      A7_cat      A9_cat  \\\n",
       "count  653.000000  653.000000  653.000000  653.000000  653.000000  653.000000   \n",
       "mean     0.667688    1.229709    0.468606    5.773354    5.084227    0.534456   \n",
       "std      0.502888    0.428193    0.845963    4.296249    2.494278    0.499194   \n",
       "min     -1.000000    0.000000    0.000000    0.000000    0.000000    0.000000   \n",
       "25%      0.000000    1.000000    0.000000    1.000000    3.000000    0.000000   \n",
       "50%      1.000000    1.000000    0.000000    6.000000    7.000000    1.000000   \n",
       "75%      1.000000    1.000000    0.000000   10.000000    7.000000    1.000000   \n",
       "max      1.000000    2.000000    2.000000   13.000000    8.000000    1.000000   \n",
       "\n",
       "          A10_cat     A12_cat     A13_cat          A2          A3          A8  \\\n",
       "count  653.000000  653.000000  653.000000  653.000000  653.000000  653.000000   \n",
       "mean     0.439510    0.462481    0.165391   31.503813    4.829533    2.244296   \n",
       "std      0.496708    0.498973    0.548475   11.838267    5.027077    3.371120   \n",
       "min      0.000000    0.000000    0.000000   13.750000    0.000000    0.000000   \n",
       "25%      0.000000    0.000000    0.000000   22.580000    1.040000    0.165000   \n",
       "50%      0.000000    0.000000    0.000000   28.420000    2.835000    1.000000   \n",
       "75%      1.000000    1.000000    0.000000   38.250000    7.500000    2.625000   \n",
       "max      1.000000    1.000000    2.000000   76.750000   28.000000   28.500000   \n",
       "\n",
       "              A11          A14            A15         A16  \n",
       "count  653.000000   653.000000     653.000000  653.000000  \n",
       "mean     2.502297   180.359877    1013.761103    0.453292  \n",
       "std      4.968497   168.296811    5253.278504    0.498195  \n",
       "min      0.000000     0.000000       0.000000    0.000000  \n",
       "25%      0.000000    73.000000       0.000000    0.000000  \n",
       "50%      0.000000   160.000000       5.000000    0.000000  \n",
       "75%      3.000000   272.000000     400.000000    1.000000  \n",
       "max     67.000000  2000.000000  100000.000000    1.000000  "
      ]
     },
     "execution_count": 94,
     "metadata": {},
     "output_type": "execute_result"
    }
   ],
   "source": [
    "data.describe()"
   ]
  },
  {
   "cell_type": "markdown",
   "id": "5fd06ccf",
   "metadata": {},
   "source": [
    "## Fase de modelado"
   ]
  },
  {
   "cell_type": "markdown",
   "id": "642d2b81",
   "metadata": {},
   "source": [
    "### Creación del conjunto de entrenamiento y validación"
   ]
  },
  {
   "cell_type": "code",
   "execution_count": 99,
   "id": "9d5a9d67",
   "metadata": {},
   "outputs": [],
   "source": [
    "#Creando arrays a partir de los valores del dataset \"data\"\n",
    "array_clas = data.values\n",
    "X_clas = array_clas[ : , 0:15]\n",
    "Y_clas = array_clas[ : , 15]\n",
    "\n",
    "validation_size = 0.20\n",
    "seed = 7"
   ]
  },
  {
   "cell_type": "code",
   "execution_count": 100,
   "id": "b647b166",
   "metadata": {},
   "outputs": [
    {
     "data": {
      "text/plain": [
       "array([[ 0.66131495, -0.53687283, -0.55435692, ..., -0.30259629,\n",
       "         0.12868165, -0.19312477],\n",
       "       [-1.32872498, -0.53687283, -0.55435692, ...,  0.70451573,\n",
       "        -0.81680202, -0.08644296],\n",
       "       [-1.32872498, -0.53687283, -0.55435692, ..., -0.50401869,\n",
       "         0.59250383, -0.0361501 ],\n",
       "       ...,\n",
       "       [-1.32872498,  1.80031354,  1.81162393, ..., -0.30259629,\n",
       "         0.11678877, -0.19293427],\n",
       "       [-1.32872498, -0.53687283, -0.55435692, ..., -0.50401869,\n",
       "         0.59250383, -0.05024734],\n",
       "       [ 0.66131495, -0.53687283, -0.55435692, ..., -0.50401869,\n",
       "        -1.07249886, -0.19312477]])"
      ]
     },
     "execution_count": 100,
     "metadata": {},
     "output_type": "execute_result"
    }
   ],
   "source": [
    "#Escalamiento de datos\n",
    "from sklearn import preprocessing\n",
    "scaler = preprocessing.StandardScaler().fit(X_clas)\n",
    "scaler\n",
    "scaler.mean_\n",
    "scaler.scale_\n",
    "X_scaled = scaler.transform(X_clas)\n",
    "X_scaled"
   ]
  },
  {
   "cell_type": "code",
   "execution_count": 101,
   "id": "70f56e8a",
   "metadata": {},
   "outputs": [],
   "source": [
    "X_train, X_validation, Y_train, Y_validation = train_test_split(X_scaled, Y_clas, test_size=validation_size, random_state=seed)"
   ]
  },
  {
   "cell_type": "markdown",
   "id": "9cb53010",
   "metadata": {},
   "source": [
    "### Algritmos Lineales"
   ]
  },
  {
   "cell_type": "markdown",
   "id": "96435144",
   "metadata": {},
   "source": [
    "#### Logistic Regression"
   ]
  },
  {
   "cell_type": "code",
   "execution_count": 102,
   "id": "f2ff5bd7",
   "metadata": {},
   "outputs": [
    {
     "name": "stdout",
     "output_type": "stream",
     "text": [
      "Accuracy: 86.60% (4.52%)\n"
     ]
    }
   ],
   "source": [
    "# Logistic Regression Classification\n",
    "from sklearn.linear_model import LogisticRegression\n",
    "from sklearn.model_selection import KFold\n",
    "from sklearn.model_selection import cross_val_score\n",
    "\n",
    "kfold = KFold(n_splits=10, random_state=None)\n",
    "model = LogisticRegression(solver= 'lbfgs', max_iter=5000)\n",
    "results = cross_val_score(model, X_train, Y_train, cv=kfold)\n",
    "print(f'Accuracy: {results.mean()*100.0:,.2f}% ({results.std()*100.0:,.2f}%)')"
   ]
  },
  {
   "cell_type": "markdown",
   "id": "fa29de30",
   "metadata": {},
   "source": [
    "#### Linear Discriminant Analysis - LDA"
   ]
  },
  {
   "cell_type": "code",
   "execution_count": 103,
   "id": "7cd71d7d",
   "metadata": {},
   "outputs": [
    {
     "name": "stdout",
     "output_type": "stream",
     "text": [
      "Accuracy: 86.79% (4.12%)\n"
     ]
    }
   ],
   "source": [
    "from sklearn.discriminant_analysis import LinearDiscriminantAnalysis\n",
    "\n",
    "kfold = KFold(n_splits=10, random_state=None)\n",
    "model = LinearDiscriminantAnalysis()\n",
    "results = cross_val_score(model, X_train, Y_train, cv=kfold)\n",
    "print(f'Accuracy: {results.mean()*100.0:,.2f}% ({results.std()*100.0:,.2f}%)')"
   ]
  },
  {
   "cell_type": "markdown",
   "id": "9a7b8f7f",
   "metadata": {},
   "source": [
    "### Algoritmos No Lineales"
   ]
  },
  {
   "cell_type": "markdown",
   "id": "f52c6866",
   "metadata": {},
   "source": [
    "#### k-Nearest Neighbours"
   ]
  },
  {
   "cell_type": "code",
   "execution_count": 104,
   "id": "74b97a76",
   "metadata": {},
   "outputs": [
    {
     "name": "stdout",
     "output_type": "stream",
     "text": [
      "Accuracy: 84.49% (4.75%)\n"
     ]
    }
   ],
   "source": [
    "# KNN Classification\n",
    "from sklearn.neighbors import KNeighborsClassifier\n",
    "\n",
    "kfold = KFold(n_splits=8, random_state=None)\n",
    "model = KNeighborsClassifier(n_neighbors=8, algorithm='kd_tree')\n",
    "results = cross_val_score(model, X_train, Y_train, cv=kfold)\n",
    "print(f'Accuracy: {results.mean()*100.0:,.2f}% ({results.std()*100.0:,.2f}%)')"
   ]
  },
  {
   "cell_type": "markdown",
   "id": "4956ba97",
   "metadata": {},
   "source": [
    "#### Naive Bayes"
   ]
  },
  {
   "cell_type": "code",
   "execution_count": 105,
   "id": "87eaec19",
   "metadata": {},
   "outputs": [
    {
     "name": "stdout",
     "output_type": "stream",
     "text": [
      "Accuracy: 79.89% (4.43)\n"
     ]
    }
   ],
   "source": [
    "# Gaussian Naive Bayes Classification\n",
    "from sklearn.naive_bayes import GaussianNB\n",
    "\n",
    "kfold = KFold(n_splits=10, random_state=None)\n",
    "model = GaussianNB()\n",
    "results = cross_val_score(model, X_train, Y_train, cv=kfold)\n",
    "print(f'Accuracy: {results.mean()*100.0:,.2f}% ({results.std()*100.0:,.2f})')"
   ]
  },
  {
   "cell_type": "markdown",
   "id": "56b1c9bd",
   "metadata": {},
   "source": [
    "#### Decision Tree Classification"
   ]
  },
  {
   "cell_type": "code",
   "execution_count": 106,
   "id": "16157336",
   "metadata": {},
   "outputs": [
    {
     "name": "stdout",
     "output_type": "stream",
     "text": [
      "Accuracy: 81.22% (5.36)\n"
     ]
    }
   ],
   "source": [
    "# CART Classification\n",
    "from sklearn.tree import DecisionTreeClassifier\n",
    "\n",
    "kfold = KFold(n_splits=10, random_state=None)\n",
    "model = DecisionTreeClassifier(criterion= 'entropy')\n",
    "results = cross_val_score(model, X_train, Y_train, cv=kfold)\n",
    "print(f'Accuracy: {results.mean()*100.0:,.2f}% ({results.std()*100.0:,.2f})')"
   ]
  },
  {
   "cell_type": "markdown",
   "id": "900b385a",
   "metadata": {},
   "source": [
    "#### Super Vector Machine"
   ]
  },
  {
   "cell_type": "code",
   "execution_count": 107,
   "id": "bad3c94b",
   "metadata": {},
   "outputs": [
    {
     "name": "stdout",
     "output_type": "stream",
     "text": [
      "Accuracy: 85.44% (5.71)\n"
     ]
    }
   ],
   "source": [
    "# SVM Classification\n",
    "from sklearn.svm import SVC\n",
    "\n",
    "kfold = KFold(n_splits=10, random_state=None)\n",
    "model = SVC()\n",
    "results = cross_val_score(model, X_train, Y_train, cv=kfold)\n",
    "print(f'Accuracy: {results.mean()*100.0:,.2f}% ({results.std()*100.0:,.2f})')"
   ]
  },
  {
   "cell_type": "markdown",
   "id": "9d629e38",
   "metadata": {},
   "source": [
    "## Fase evaluación de los modelos lineales y no lineales"
   ]
  },
  {
   "cell_type": "code",
   "execution_count": 108,
   "id": "a6868b8e",
   "metadata": {},
   "outputs": [
    {
     "name": "stdout",
     "output_type": "stream",
     "text": [
      "['LR']: 86.60% (4.52%)\n",
      "['LR', 'LDA']: 86.79% (4.12%)\n",
      "['LR', 'LDA', 'K-NN']: 84.48% (4.82%)\n",
      "['LR', 'LDA', 'K-NN', 'CART']: 81.22% (4.71%)\n",
      "['LR', 'LDA', 'K-NN', 'CART', 'NB']: 79.89% (4.43%)\n",
      "['LR', 'LDA', 'K-NN', 'CART', 'NB', 'SVM']: 85.44% (5.71%)\n"
     ]
    }
   ],
   "source": [
    "# Comparamos los algorithms\n",
    "models = []\n",
    "models.append(('LR', LogisticRegression(solver= 'lbfgs', max_iter=5000)))\n",
    "models.append(('LDA', LinearDiscriminantAnalysis()))\n",
    "models.append(('K-NN', KNeighborsClassifier(n_neighbors=8)))\n",
    "models.append(('CART', DecisionTreeClassifier(criterion= 'entropy')))\n",
    "models.append(('NB', GaussianNB()))\n",
    "models.append(('SVM', SVC()))\n",
    "# evaluate each model in turnmodels = \n",
    "results = []\n",
    "names = []\n",
    "scoring = 'accuracy'\n",
    "for name, model in models:\n",
    "    kfold = KFold(n_splits=10, random_state=None)\n",
    "    cv_results = cross_val_score(model, X_train, Y_train, cv=kfold, scoring=scoring)\n",
    "    results.append(cv_results)\n",
    "    names.append(name)\n",
    "    print(f\"{names}: {cv_results.mean()*100.0:,.2f}% ({cv_results.std()*100.0:,.2f}%)\")"
   ]
  },
  {
   "cell_type": "code",
   "execution_count": 109,
   "id": "9ad80732",
   "metadata": {},
   "outputs": [
    {
     "data": {
      "image/png": "[encoded data removed]",
      "text/plain": [
       "<Figure size 432x288 with 1 Axes>"
      ]
     },
     "metadata": {
      "needs_background": "light"
     },
     "output_type": "display_data"
    }
   ],
   "source": [
    "# boxplot algorithm comparison\n",
    "fig=plt.figure()\n",
    "fig.suptitle('Comparación de Algoritmos Lineales y No Lineales')\n",
    "ax=fig.add_subplot(111)\n",
    "plt.boxplot(results)\n",
    "ax.set_xticklabels(names)\n",
    "plt.show()"
   ]
  },
  {
   "cell_type": "markdown",
   "id": "975fa571",
   "metadata": {},
   "source": [
    "Los resultados sugieren profundizar en los algoritmos LDA y  LR. Es muy probable que una configuración más allá de la predeterminada pueda generar modelos con mejor desempeño."
   ]
  },
  {
   "cell_type": "markdown",
   "id": "4a953271",
   "metadata": {},
   "source": [
    "## Fase optimización de los mejores modelos lineales y no lineales"
   ]
  },
  {
   "cell_type": "code",
   "execution_count": 110,
   "id": "2b44f40a",
   "metadata": {},
   "outputs": [
    {
     "name": "stdout",
     "output_type": "stream",
     "text": [
      "Accuracy: 86.40% (4.22%)\n"
     ]
    }
   ],
   "source": [
    "#Se seteo los parámetros con los valores asignados por compatibilidad entre los parámetros 'solver' y 'shrinkage'\n",
    "from sklearn.discriminant_analysis import LinearDiscriminantAnalysis\n",
    "\n",
    "kfold = KFold(n_splits=10, random_state=None)\n",
    "model = LinearDiscriminantAnalysis(solver='eigen', shrinkage='auto')\n",
    "results = cross_val_score(model, X_train, Y_train, cv=kfold)\n",
    "print(f'Accuracy: {results.mean()*100.0:,.2f}% ({results.std()*100.0:,.2f}%)')"
   ]
  },
  {
   "cell_type": "markdown",
   "id": "ed2b7c25",
   "metadata": {},
   "source": [
    "El proceso de optimización de un modelo algorítmico requiere una investigación profunda de los parámetros/hiperparámetros con los que trabaja cada modelo por lo que no siempre se obtiene los resultados esperados. En este caso, sin la optimización del modelo LDA se obtuvo 86.79% de acierto respecto a 86.40% con optimización. Por lo que el impacto ha sido insignificante en este caso."
   ]
  },
  {
   "cell_type": "code",
   "execution_count": 111,
   "id": "a143fd0d",
   "metadata": {},
   "outputs": [
    {
     "name": "stdout",
     "output_type": "stream",
     "text": [
      "Accuracy: 86.41% (4.21%)\n"
     ]
    }
   ],
   "source": [
    "#Se seteo los parámetros con los valores asignados por compatibilidad entre los parámetros 'penalty' y 'solver'\n",
    "from sklearn.linear_model import LogisticRegression\n",
    "\n",
    "kfold = KFold(n_splits=10, random_state=None)\n",
    "model = LogisticRegression(penalty='l1',solver= 'liblinear', max_iter=1000)\n",
    "results = cross_val_score(model, X_train, Y_train, cv=kfold)\n",
    "print(f'Accuracy: {results.mean()*100.0:,.2f}% ({results.std()*100.0:,.2f}%)')"
   ]
  },
  {
   "cell_type": "markdown",
   "id": "25bcaa2e",
   "metadata": {},
   "source": [
    "En este caso, se observa que la optimización del modelo LR sin la optimización del modelo obtuvo 86.60% de acierto respecto a 86.41% con optimización. Por lo que el impacto ha sido insignificante en este caso."
   ]
  },
  {
   "cell_type": "markdown",
   "id": "1222325f",
   "metadata": {},
   "source": [
    "### Algoritmos de conjuntos o ensamblados"
   ]
  },
  {
   "cell_type": "markdown",
   "id": "74f0c732",
   "metadata": {},
   "source": [
    "Otra forma en que podemos mejorar el rendimiento de los algoritmos en este problema es mediante el uso de modelos ensamblados. En esta sección evaluaremos cuatro algoritmos ensamblados diferentes, dos tipo Boosting y dos tipo  Bagging:\n",
    "* Métodos Boosting: AdaBoost (AB) y Gradient Boosting (GBM).\n",
    "* Métodos Bagging: Random Forest (RF) y Extra Trees (ET).\n",
    "\n",
    "Utilizaresmo una validación cruzada de 10. No se utiliza la estandarización de datos en este caso porque los cuatro algoritmos de conjunto se basan en árboles de decisión que son menos sensibles a las distribuciones de datos."
   ]
  },
  {
   "cell_type": "code",
   "execution_count": 112,
   "id": "72029afb",
   "metadata": {},
   "outputs": [],
   "source": [
    "from sklearn.ensemble import AdaBoostClassifier\n",
    "from sklearn.ensemble import GradientBoostingClassifier\n",
    "from sklearn.ensemble import RandomForestClassifier\n",
    "from sklearn.ensemble import ExtraTreesClassifier"
   ]
  },
  {
   "cell_type": "code",
   "execution_count": 113,
   "id": "6c4fa2c0",
   "metadata": {},
   "outputs": [
    {
     "name": "stdout",
     "output_type": "stream",
     "text": [
      "AB: 85.63% (4.86%)\n",
      "GBM: 86.01% (5.03%)\n",
      "RF: 88.31% (6.11%)\n",
      "ET: 87.74% (5.10%)\n"
     ]
    }
   ],
   "source": [
    "# ensembles\n",
    "ensembles = []\n",
    "ensembles.append(('AB', AdaBoostClassifier()))\n",
    "ensembles.append(('GBM', GradientBoostingClassifier()))\n",
    "ensembles.append(('RF', RandomForestClassifier()))\n",
    "ensembles.append(('ET', ExtraTreesClassifier()))\n",
    "results = []\n",
    "names = []\n",
    "for name, model in ensembles:\n",
    "    kfold = KFold(n_splits=10, random_state=None)\n",
    "    cv_results = cross_val_score(model, X_train, Y_train, cv=kfold, scoring=scoring)\n",
    "    results.append(cv_results)\n",
    "    names.append(name)\n",
    "    print(f\"{name}: {cv_results.mean()*100.0:,.2f}% ({cv_results.std()*100.0:,.2f}%)\")"
   ]
  },
  {
   "cell_type": "code",
   "execution_count": 114,
   "id": "f42abacc",
   "metadata": {},
   "outputs": [
    {
     "data": {
      "image/png": "[encoded data removed]",
      "text/plain": [
       "<Figure size 432x288 with 1 Axes>"
      ]
     },
     "metadata": {
      "needs_background": "light"
     },
     "output_type": "display_data"
    }
   ],
   "source": [
    "# Comparamos los algoritmos de conjunto\n",
    "fig = plt.figure()\n",
    "fig.suptitle('Comparación de algoritmos de ensamblado')\n",
    "ax = fig.add_subplot(111)\n",
    "plt.boxplot(results)\n",
    "ax.set_xticklabels(names)\n",
    "plt.show()"
   ]
  },
  {
   "cell_type": "markdown",
   "id": "684dd32b",
   "metadata": {},
   "source": [
    "Los resultados sugieren que RF y ET puede ser digno de una mayor investigación con una media fuerte y una extensión que se inclina al 90% de Accuracy.,"
   ]
  },
  {
   "cell_type": "markdown",
   "id": "31aa5547",
   "metadata": {},
   "source": [
    "## Fase optimización de los mejores modelos ensamblados"
   ]
  },
  {
   "cell_type": "code",
   "execution_count": 115,
   "id": "3c17ea52",
   "metadata": {},
   "outputs": [
    {
     "name": "stdout",
     "output_type": "stream",
     "text": [
      "Accuracy: 88.31% (5.54%)\n"
     ]
    }
   ],
   "source": [
    "#Se seteo bootstrap en True para que no considere todo el dataset\n",
    "from sklearn.ensemble import RandomForestClassifier\n",
    "kfold = KFold(n_splits=10, random_state=None)\n",
    "model = RandomForestClassifier(bootstrap=True)\n",
    "results = cross_val_score(model, X_train, Y_train, cv=kfold, scoring=scoring)\n",
    "print(f'Accuracy: {results.mean()*100.0:,.2f}% ({results.std()*100.0:,.2f}%)')"
   ]
  },
  {
   "cell_type": "markdown",
   "id": "62d28a92",
   "metadata": {},
   "source": [
    "En este caso, se observa que la optimización del modelo RF mantuvo el mismo porcentaje de acierto que el modelo sin optimización por lo que podría seguir investigando para complejizar un poco el modelo a fin de obtener un mejor Accuracy."
   ]
  },
  {
   "cell_type": "code",
   "execution_count": 122,
   "id": "8f977c14",
   "metadata": {},
   "outputs": [
    {
     "name": "stdout",
     "output_type": "stream",
     "text": [
      "Accuracy: 87.94% (4.93%)\n"
     ]
    }
   ],
   "source": [
    "#El parámetros 'exponential' se usó para aplicar el efecto del algoritmo AdaBoost en lugar de LR si se por default. Learning_rate contribuye en el aprendizaje de los valores calculados para generar el siguiente árbol.\n",
    "from sklearn.ensemble import ExtraTreesClassifier\n",
    "kfold = KFold(n_splits=10, random_state=None)\n",
    "model = ExtraTreesClassifier(criterion='log_loss', max_features='log2', bootstrap=True, oob_score=False)\n",
    "results = cross_val_score(model, X_train, Y_train, cv=kfold, scoring=scoring)\n",
    "print(f'Accuracy: {results.mean()*100.0:,.2f}% ({results.std()*100.0:,.2f}%)')"
   ]
  },
  {
   "cell_type": "markdown",
   "id": "57a039df",
   "metadata": {},
   "source": [
    "En este caso, se observa que la optimización del modelo ET obtuvo una ligera mejora en el porcentaje de acierto de la clase target. Obteniendo 87.94% frente a 87.74% que se obtuvo antes de realizar el tuneo del modelo."
   ]
  },
  {
   "cell_type": "markdown",
   "id": "3eafdae9",
   "metadata": {},
   "source": [
    "## Fase de Forecasting o Fase de Validación"
   ]
  },
  {
   "cell_type": "markdown",
   "id": "5ff66334",
   "metadata": {},
   "source": [
    "El RF mostró el mejor resultado (88.31%) como un modelo estable y de baja complejidad. En esta sección finalizaremos el modelo entrenándolo en todo el conjunto de datos de entrenamiento y haremos predicciones para el conjunto de datos de validación para confirmar nuestros hallazgos."
   ]
  },
  {
   "cell_type": "code",
   "execution_count": 126,
   "id": "2712c237",
   "metadata": {},
   "outputs": [
    {
     "name": "stdout",
     "output_type": "stream",
     "text": [
      "0.8549618320610687\n",
      "[[71  9]\n",
      " [10 41]]\n",
      "              precision    recall  f1-score   support\n",
      "\n",
      "         0.0       0.88      0.89      0.88        80\n",
      "         1.0       0.82      0.80      0.81        51\n",
      "\n",
      "    accuracy                           0.85       131\n",
      "   macro avg       0.85      0.85      0.85       131\n",
      "weighted avg       0.85      0.85      0.85       131\n",
      "\n"
     ]
    }
   ],
   "source": [
    "# Prepare aand Finalize Model\n",
    "from sklearn.preprocessing import StandardScaler\n",
    "from sklearn.metrics import accuracy_score\n",
    "from sklearn.metrics import confusion_matrix\n",
    "from sklearn.metrics import classification_report\n",
    "\n",
    "scaler = StandardScaler().fit(X_train)\n",
    "rescaledX = scaler.transform(X_train)\n",
    "model = RandomForestClassifier()\n",
    "model.fit(rescaledX, Y_train)\n",
    "\n",
    "# estimate accuracy on validation dataset\n",
    "rescaledValidationX = scaler.transform(X_validation)\n",
    "predictions = model.predict(rescaledValidationX)\n",
    "print(accuracy_score(Y_validation, predictions))\n",
    "print(confusion_matrix(Y_validation, predictions))\n",
    "print(classification_report(Y_validation, predictions))"
   ]
  },
  {
   "cell_type": "markdown",
   "id": "a82b5219",
   "metadata": {},
   "source": [
    "Podemos ver que alcanzamos una precisión de 85% en el conjunto de datos de validación. Un porcentaje de acierto significativamente balanceado considerando que el Accuracy logrado durante el entrenamiento + optimización del modelo alcanzó 87.94% con lo cual se demuestra que se ha validado correctamente el mejor modelo."
   ]
  },
  {
   "cell_type": "code",
   "execution_count": null,
   "id": "d796e68c",
   "metadata": {},
   "outputs": [],
   "source": []
  }
 ],
 "metadata": {
  "kernelspec": {
   "display_name": "Python 3 (ipykernel)",
   "language": "python",
   "name": "python3"
  },
  "language_info": {
   "codemirror_mode": {
    "name": "ipython",
    "version": 3
   },
   "file_extension": ".py",
   "mimetype": "text/x-python",
   "name": "python",
   "nbconvert_exporter": "python",
   "pygments_lexer": "ipython3",
   "version": "3.9.12"
  }
 },
 "nbformat": 4,
 "nbformat_minor": 5
}
